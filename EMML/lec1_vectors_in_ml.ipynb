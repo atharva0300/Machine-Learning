{
  "nbformat": 4,
  "nbformat_minor": 0,
  "metadata": {
    "colab": {
      "provenance": [],
      "authorship_tag": "ABX9TyPoABvHd+ovs4NknvP7jr7I",
      "include_colab_link": true
    },
    "kernelspec": {
      "name": "python3",
      "display_name": "Python 3"
    },
    "language_info": {
      "name": "python"
    }
  },
  "cells": [
    {
      "cell_type": "markdown",
      "metadata": {
        "id": "view-in-github",
        "colab_type": "text"
      },
      "source": [
        "<a href=\"https://colab.research.google.com/github/atharva0300/Machine-Learning/blob/main/EMML/lec1_vectors_in_ml.ipynb\" target=\"_parent\"><img src=\"https://colab.research.google.com/assets/colab-badge.svg\" alt=\"Open In Colab\"/></a>"
      ]
    },
    {
      "cell_type": "code",
      "execution_count": 2,
      "metadata": {
        "id": "Wu9XWo4yIrdg"
      },
      "outputs": [],
      "source": [
        "import numpy as np\n",
        "v = np.array([1 , -1 , 2]);\n",
        "w = np.array([2 , 5 , 2]);"
      ]
    },
    {
      "cell_type": "code",
      "source": [
        "print(v+w)    # addition"
      ],
      "metadata": {
        "colab": {
          "base_uri": "https://localhost:8080/"
        },
        "id": "Hdry66UlJphJ",
        "outputId": "8ce7e5cd-f1ab-495f-c42f-7d7af99bbfa5"
      },
      "execution_count": 10,
      "outputs": [
        {
          "output_type": "stream",
          "name": "stdout",
          "text": [
            "[3 4 4]\n"
          ]
        }
      ]
    },
    {
      "cell_type": "code",
      "source": [
        "print(v-w)  # subtraction"
      ],
      "metadata": {
        "colab": {
          "base_uri": "https://localhost:8080/"
        },
        "id": "sIg5QHkgJsXl",
        "outputId": "44754642-3281-4f23-a7fc-af67d1cb8b53"
      },
      "execution_count": 4,
      "outputs": [
        {
          "output_type": "stream",
          "name": "stdout",
          "text": [
            "[-1 -6  0]\n"
          ]
        }
      ]
    },
    {
      "cell_type": "code",
      "source": [
        "print(3*v)  # scalar multiplication"
      ],
      "metadata": {
        "colab": {
          "base_uri": "https://localhost:8080/"
        },
        "id": "Z6o2NL9CJuLW",
        "outputId": "c01656fa-7ae8-4d17-f637-3af635d6cff8"
      },
      "execution_count": 6,
      "outputs": [
        {
          "output_type": "stream",
          "name": "stdout",
          "text": [
            "[ 3 -3  6]\n"
          ]
        }
      ]
    },
    {
      "cell_type": "code",
      "source": [
        "print(v*w)  # vector multiplication"
      ],
      "metadata": {
        "colab": {
          "base_uri": "https://localhost:8080/"
        },
        "id": "pV9KcPw5Jxrf",
        "outputId": "9ed90443-fbcd-4d77-8b25-8b30b73ea2db"
      },
      "execution_count": 15,
      "outputs": [
        {
          "output_type": "stream",
          "name": "stdout",
          "text": [
            "[ 2 -5  4]\n"
          ]
        }
      ]
    },
    {
      "cell_type": "code",
      "source": [
        "print(np.dot(v,w))"
      ],
      "metadata": {
        "colab": {
          "base_uri": "https://localhost:8080/"
        },
        "id": "sNMVqH3kLLMg",
        "outputId": "e870368d-90bf-4880-dcd0-98e1e6075785"
      },
      "execution_count": 16,
      "outputs": [
        {
          "output_type": "stream",
          "name": "stdout",
          "text": [
            "1\n"
          ]
        }
      ]
    },
    {
      "cell_type": "code",
      "source": [
        "print(np.linalg.norm(v))  # length of v"
      ],
      "metadata": {
        "colab": {
          "base_uri": "https://localhost:8080/"
        },
        "id": "lcD3zNTMJzGZ",
        "outputId": "abede7e4-0e3b-4594-8ccf-390498c1c72f"
      },
      "execution_count": 11,
      "outputs": [
        {
          "output_type": "stream",
          "name": "stdout",
          "text": [
            "2.449489742783178\n"
          ]
        }
      ]
    },
    {
      "cell_type": "code",
      "source": [
        "print(np.linalg.norm(w))  # length of w"
      ],
      "metadata": {
        "colab": {
          "base_uri": "https://localhost:8080/"
        },
        "id": "STW0K85xKEOJ",
        "outputId": "f495737b-df7b-4d4d-a501-d3e6b0ab70b0"
      },
      "execution_count": 13,
      "outputs": [
        {
          "output_type": "stream",
          "name": "stdout",
          "text": [
            "5.744562646538029\n"
          ]
        }
      ]
    },
    {
      "cell_type": "code",
      "source": [
        "# angle between v and w\n",
        "# dotProduct = v*w  -> this is not dot product\n",
        "dotProduct = np.dot(v,w)\n",
        "normV = np.linalg.norm(v)\n",
        "normW = np.linalg.norm(w)\n",
        "normMultiplication = normV * normW\n",
        "cosineAngle = dotProduct / normMultiplication\n",
        "thetaRadians = np.arccos(np.clip(cosineAngle , -1 , 1))\n",
        "print(thetaRadians)"
      ],
      "metadata": {
        "colab": {
          "base_uri": "https://localhost:8080/"
        },
        "id": "KQIK1ciHKIBW",
        "outputId": "6e433e44-e681-4ad5-dfb9-548db6365fac"
      },
      "execution_count": 19,
      "outputs": [
        {
          "output_type": "stream",
          "name": "stdout",
          "text": [
            "1.4996694643494421\n"
          ]
        }
      ]
    },
    {
      "cell_type": "code",
      "source": [
        "thetaDegrees = np.degrees(thetaRadians)\n",
        "print(thetaDegrees)"
      ],
      "metadata": {
        "colab": {
          "base_uri": "https://localhost:8080/"
        },
        "id": "IYTuIDX7LZwS",
        "outputId": "cd28347a-4266-4333-d8cd-2cbb59fa564e"
      },
      "execution_count": 20,
      "outputs": [
        {
          "output_type": "stream",
          "name": "stdout",
          "text": [
            "85.9247309718679\n"
          ]
        }
      ]
    },
    {
      "cell_type": "code",
      "source": [],
      "metadata": {
        "id": "lQLrndTfLebW"
      },
      "execution_count": null,
      "outputs": []
    }
  ]
}